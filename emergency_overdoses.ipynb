{
 "cells": [
  {
   "cell_type": "code",
   "execution_count": null,
   "metadata": {
    "collapsed": true
   },
   "outputs": [],
   "source": [
    "import numpy as np\n",
    "import pandas as pd\n",
    "import matplotlib.pyplot as plt\n",
    "import seaborn as sns\n",
    "\n",
    "%matplotlib inline"
   ]
  },
  {
   "cell_type": "code",
   "execution_count": null,
   "metadata": {
    "collapsed": true
   },
   "outputs": [],
   "source": [
    "df = pd.read_excel(\"emergency_room_overdoses.xlsx\")"
   ]
  },
  {
   "cell_type": "code",
   "execution_count": null,
   "metadata": {},
   "outputs": [],
   "source": [
    "df.head()"
   ]
  },
  {
   "cell_type": "code",
   "execution_count": null,
   "metadata": {},
   "outputs": [],
   "source": [
    "df.info()"
   ]
  },
  {
   "cell_type": "code",
   "execution_count": null,
   "metadata": {},
   "outputs": [],
   "source": [
    "#data counts\n",
    "df.count()"
   ]
  },
  {
   "cell_type": "code",
   "execution_count": null,
   "metadata": {
    "collapsed": true
   },
   "outputs": [],
   "source": [
    "#106 weeks covered - perhaps this should be divided into months, and years\n",
    "df['year'] = df['Week starting on'].dt.year\n",
    "df['month'] = df['Week starting on'].dt.month"
   ]
  },
  {
   "cell_type": "code",
   "execution_count": null,
   "metadata": {},
   "outputs": [],
   "source": [
    "df.head()"
   ]
  },
  {
   "cell_type": "code",
   "execution_count": null,
   "metadata": {},
   "outputs": [],
   "source": [
    "df.groupby('year')['year'].nunique()"
   ]
  },
  {
   "cell_type": "code",
   "execution_count": null,
   "metadata": {},
   "outputs": [],
   "source": [
    "#lets see what months we got here\n",
    "df.groupby(['year','month'])['year'].max()"
   ]
  },
  {
   "cell_type": "code",
   "execution_count": null,
   "metadata": {
    "collapsed": true
   },
   "outputs": [],
   "source": [
    "#okay, not a lot of data from 2015, but since then we are good\n",
    "#lets summarize the data into new dataframes for years and months\n",
    "\n",
    "df_sum = df.groupby(['year','month'])['Weekly count'].sum().reset_index()"
   ]
  },
  {
   "cell_type": "code",
   "execution_count": null,
   "metadata": {},
   "outputs": [],
   "source": [
    "df_sum.rename(columns={'Weekly count' : 'mthSum'}, inplace=True)\n",
    "df_sum.head()"
   ]
  },
  {
   "cell_type": "code",
   "execution_count": null,
   "metadata": {
    "collapsed": true
   },
   "outputs": [],
   "source": [
    "#now we will take a sum of the weeks available in each month, for general purposes\n",
    "df_wksum = df.groupby(['year','month']).count().reset_index()"
   ]
  },
  {
   "cell_type": "code",
   "execution_count": null,
   "metadata": {},
   "outputs": [],
   "source": [
    "df_wksum.rename(columns={'Weekly count' : 'wkCnt'}, inplace=True)\n",
    "df_wksum.drop(['Week starting on'],axis=1, inplace=True)\n",
    "df_wksum.head()"
   ]
  },
  {
   "cell_type": "code",
   "execution_count": null,
   "metadata": {
    "collapsed": true
   },
   "outputs": [],
   "source": [
    "# join the weeksum to the summary data\n",
    "df_sum = pd.merge(left=df_sum, right=df_wksum, left_on=['year','month'], right_on=['year','month'], how='inner')"
   ]
  },
  {
   "cell_type": "code",
   "execution_count": null,
   "metadata": {},
   "outputs": [],
   "source": [
    "#let's get the index location of months with limited weeks\n",
    "df_sum"
   ]
  },
  {
   "cell_type": "code",
   "execution_count": null,
   "metadata": {},
   "outputs": [],
   "source": [
    "#okay index locations at 0 and 25\n",
    "df_sum.drop(df_sum.index[[0,25]],axis=0,inplace=True)\n",
    "df_sum.head()"
   ]
  },
  {
   "cell_type": "code",
   "execution_count": null,
   "metadata": {},
   "outputs": [],
   "source": [
    "#lets find out about this data!\n",
    "df_sum['yr_mth'] = df_sum[['year','month']].dot([100,1])\n",
    "df_sum['avg_mth'] = df_sum['mthSum']/df_sum['wkCnt']\n",
    "#set up figure\n",
    "fig, ax = plt.subplots()\n",
    "fig.set_size_inches(12,5)\n",
    "plt.bar(df_sum.yr_mth,df_sum.mthSum,1)\n",
    "plt.ylim(0, 60)\n",
    "#ax.xaxis.plt.MaxNLocator(8)\n",
    "ax.tick_params(direction='out', length=6, width=2, colors='r')\n",
    "\n",
    "sns.barplot(x='yr_mth',y='avg_mth',data=df_sum, ax=ax, palette=\"Reds\", hue='wkCnt')"
   ]
  },
  {
   "cell_type": "code",
   "execution_count": null,
   "metadata": {},
   "outputs": [],
   "source": [
    "fig, ax = plt.subplots(nrows=1, ncols=3)\n",
    "plt.bar(df_sum.yr_mth,df_sum.mthSum,1)\n",
    "sns.barplot(x='yr_mth',y='mthSum',data=df_sum, ax=ax)"
   ]
  },
  {
   "cell_type": "code",
   "execution_count": null,
   "metadata": {},
   "outputs": [],
   "source": [
    "df_sum.head()"
   ]
  },
  {
   "cell_type": "code",
   "execution_count": null,
   "metadata": {},
   "outputs": [],
   "source": [
    "#create new dataframe with year, month, and weekly average per month\n",
    "df_sum_yrmth = df_sum.filter([\"year\", \"month\", \"avg_mth\"],axis=1)\n",
    "df_sum_yrmth = df_sum_yrmth.pivot(\"year\", \"month\", \"avg_mth\")"
   ]
  },
  {
   "cell_type": "code",
   "execution_count": null,
   "metadata": {},
   "outputs": [],
   "source": [
    "sns.heatmap(df_sum_yrmth,cmap=\"YlGnBu\")"
   ]
  }
 ],
 "metadata": {
  "kernelspec": {
   "display_name": "Python 3",
   "language": "python",
   "name": "python3"
  },
  "language_info": {
   "codemirror_mode": {
    "name": "ipython",
    "version": 3
   },
   "file_extension": ".py",
   "mimetype": "text/x-python",
   "name": "python",
   "nbconvert_exporter": "python",
   "pygments_lexer": "ipython3",
   "version": "3.6.3"
  }
 },
 "nbformat": 4,
 "nbformat_minor": 2
}
